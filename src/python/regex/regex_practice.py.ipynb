{
 "cells": [
  {
   "cell_type": "markdown",
   "metadata": {},
   "source": [
    "# Regular Expression\n",
    "\n",
    "What is `pattern` object?\n",
    "the pattern represented by regular expression.\n",
    "\n",
    "What is `match` object?\n",
    "the result of using pattern object.\n",
    "\n",
    "[Match Object](https://howchoo.com/g/ymfhmtrhyjg/python-regexes-match-objects)\n",
    "\n",
    "What is the difference between `match()` and `search()`?"
   ]
  },
  {
   "cell_type": "code",
   "execution_count": 5,
   "metadata": {
    "ExecuteTime": {
     "end_time": "2019-09-13T07:13:19.217079Z",
     "start_time": "2019-09-13T07:13:19.206868Z"
    }
   },
   "outputs": [
    {
     "name": "stdout",
     "output_type": "stream",
     "text": [
      "None\n"
     ]
    }
   ],
   "source": [
    "print(re.match(r'bc', 'abc'))"
   ]
  },
  {
   "cell_type": "code",
   "execution_count": 4,
   "metadata": {
    "ExecuteTime": {
     "end_time": "2019-09-13T07:12:14.588333Z",
     "start_time": "2019-09-13T07:12:14.578854Z"
    }
   },
   "outputs": [
    {
     "name": "stdout",
     "output_type": "stream",
     "text": [
      "<re.Match object; span=(1, 3), match='bc'>\n"
     ]
    }
   ],
   "source": [
    "print(re.search(r'bc', 'abc'))"
   ]
  },
  {
   "cell_type": "markdown",
   "metadata": {},
   "source": [
    "## Group\n",
    "\n",
    "What is group in `regex`?\n",
    "A group is a pattern that you want to capture in a string."
   ]
  },
  {
   "cell_type": "code",
   "execution_count": 1,
   "metadata": {
    "ExecuteTime": {
     "end_time": "2019-09-14T03:00:32.346287Z",
     "start_time": "2019-09-14T03:00:32.332714Z"
    }
   },
   "outputs": [],
   "source": [
    "import re"
   ]
  },
  {
   "cell_type": "code",
   "execution_count": 2,
   "metadata": {
    "ExecuteTime": {
     "end_time": "2019-09-13T07:07:22.650698Z",
     "start_time": "2019-09-13T07:07:22.639820Z"
    }
   },
   "outputs": [
    {
     "name": "stdout",
     "output_type": "stream",
     "text": [
      "('c',)\n"
     ]
    }
   ],
   "source": [
    "p1 = re.compile(r'([abc])+')\n",
    "m1 = p1.match('abc')\n",
    "print(m1.groups())"
   ]
  },
  {
   "cell_type": "markdown",
   "metadata": {},
   "source": [
    "Why `m1.groups()` is `('c',)`?\n",
    "Because the **last** matched group for `([abc])` is `'c'`."
   ]
  },
  {
   "cell_type": "markdown",
   "metadata": {},
   "source": [
    "What will happen when using `search()` and group?"
   ]
  },
  {
   "cell_type": "code",
   "execution_count": 7,
   "metadata": {
    "ExecuteTime": {
     "end_time": "2019-09-13T07:17:39.207254Z",
     "start_time": "2019-09-13T07:17:39.198469Z"
    }
   },
   "outputs": [
    {
     "name": "stdout",
     "output_type": "stream",
     "text": [
      "<re.Match object; span=(5, 11), match='323kjk'>\n"
     ]
    }
   ],
   "source": [
    "p2 = re.compile(r'(\\d+)(\\D+)')\n",
    "m2 = p2.search('kdjka323kjk33da38l8d0dadl3urjs=3083d j')\n",
    "print(m2)"
   ]
  },
  {
   "cell_type": "code",
   "execution_count": 8,
   "metadata": {
    "ExecuteTime": {
     "end_time": "2019-09-13T07:18:13.169291Z",
     "start_time": "2019-09-13T07:18:13.142759Z"
    }
   },
   "outputs": [
    {
     "data": {
      "text/plain": [
       "[('323', 'kjk'),\n",
       " ('33', 'da'),\n",
       " ('38', 'l'),\n",
       " ('8', 'd'),\n",
       " ('0', 'dadl'),\n",
       " ('3', 'urjs='),\n",
       " ('3083', 'd j')]"
      ]
     },
     "execution_count": 8,
     "metadata": {},
     "output_type": "execute_result"
    }
   ],
   "source": [
    "p2.findall('kdjka323kjk33da38l8d0dadl3urjs=3083d j')"
   ]
  },
  {
   "cell_type": "markdown",
   "metadata": {},
   "source": [
    "`findall()` is powerful."
   ]
  },
  {
   "cell_type": "markdown",
   "metadata": {},
   "source": [
    "## Search and replace"
   ]
  },
  {
   "cell_type": "code",
   "execution_count": 9,
   "metadata": {
    "ExecuteTime": {
     "end_time": "2019-09-13T08:25:32.998766Z",
     "start_time": "2019-09-13T08:25:32.991256Z"
    }
   },
   "outputs": [
    {
     "name": "stdout",
     "output_type": "stream",
     "text": [
      "['', '', 'x', '', '']\n"
     ]
    }
   ],
   "source": [
    "print(re.findall(r'x*', 'abxd'))"
   ]
  },
  {
   "cell_type": "code",
   "execution_count": 10,
   "metadata": {
    "ExecuteTime": {
     "end_time": "2019-09-13T08:53:28.243968Z",
     "start_time": "2019-09-13T08:53:28.231969Z"
    }
   },
   "outputs": [
    {
     "name": "stdout",
     "output_type": "stream",
     "text": [
      "-a-b--d-\n"
     ]
    }
   ],
   "source": [
    "p3 = re.compile(r'x*')\n",
    "print(p3.sub('-', 'abxd'))"
   ]
  },
  {
   "cell_type": "markdown",
   "metadata": {},
   "source": [
    "How to replace a part of a pattern?\n",
    "\n",
    "replace the '0' between whites with '1'\n",
    "'a 0 0 ba0c 0a0 b 0 ' -> 'a 1 1 ba0c 0a0 b 1 '"
   ]
  },
  {
   "cell_type": "code",
   "execution_count": 20,
   "metadata": {
    "ExecuteTime": {
     "end_time": "2019-09-13T09:42:33.720153Z",
     "start_time": "2019-09-13T09:42:33.712572Z"
    }
   },
   "outputs": [
    {
     "name": "stdout",
     "output_type": "stream",
     "text": [
      "a 1 1 ba0c 0a0 b 1 \n"
     ]
    }
   ],
   "source": [
    "p4 = re.compile(r'\\s+(0\\s+)+')\n",
    "print(p4.sub(helper1, 'a 0 0 ba0c 0a0 b 0 '))"
   ]
  },
  {
   "cell_type": "code",
   "execution_count": 19,
   "metadata": {
    "ExecuteTime": {
     "end_time": "2019-09-13T09:37:33.919033Z",
     "start_time": "2019-09-13T09:37:33.913154Z"
    }
   },
   "outputs": [],
   "source": [
    "def helper1(match):\n",
    "    value = match.group()\n",
    "    return value.replace('0', '1')"
   ]
  },
  {
   "cell_type": "markdown",
   "metadata": {},
   "source": [
    "## Greedy versus non-greedy\n",
    "\n",
    "add a `?`"
   ]
  },
  {
   "cell_type": "code",
   "execution_count": 2,
   "metadata": {
    "ExecuteTime": {
     "end_time": "2019-09-14T03:01:10.544422Z",
     "start_time": "2019-09-14T03:01:10.535733Z"
    }
   },
   "outputs": [
    {
     "name": "stdout",
     "output_type": "stream",
     "text": [
      "<re.Match object; span=(0, 32), match='<html><head><title>Title</title>'>\n",
      "<re.Match object; span=(0, 6), match='<html>'>\n"
     ]
    }
   ],
   "source": [
    "s = '<html><head><title>Title</title>'\n",
    "print(re.match(r'<.*>', s))\n",
    "print(re.match(r'<.*?>', s))"
   ]
  }
 ],
 "metadata": {
  "kernelspec": {
   "display_name": "Common",
   "language": "python",
   "name": "common"
  },
  "language_info": {
   "codemirror_mode": {
    "name": "ipython",
    "version": 3
   },
   "file_extension": ".py",
   "mimetype": "text/x-python",
   "name": "python",
   "nbconvert_exporter": "python",
   "pygments_lexer": "ipython3",
   "version": "3.7.4"
  }
 },
 "nbformat": 4,
 "nbformat_minor": 2
}
