{
 "cells": [
  {
   "cell_type": "markdown",
   "metadata": {},
   "source": [
    "# Common Gotchas\n",
    "\n",
    "If encountering a grammar pullze, think from an object's point of view."
   ]
  },
  {
   "cell_type": "markdown",
   "metadata": {},
   "source": [
    "## Mutable Default Arguments"
   ]
  },
  {
   "cell_type": "code",
   "execution_count": 4,
   "metadata": {
    "ExecuteTime": {
     "end_time": "2019-12-14T16:49:33.235950Z",
     "start_time": "2019-12-14T16:49:33.228147Z"
    }
   },
   "outputs": [
    {
     "name": "stdout",
     "output_type": "stream",
     "text": [
      "[1]\n",
      "[1, 2]\n"
     ]
    }
   ],
   "source": [
    "def push_bad(e, to=[]):\n",
    "    to.append(e)\n",
    "    return to\n",
    "print(push_bad(1))\n",
    "print(push_bad(2))"
   ]
  },
  {
   "cell_type": "code",
   "execution_count": 3,
   "metadata": {
    "ExecuteTime": {
     "end_time": "2019-12-14T16:49:17.118553Z",
     "start_time": "2019-12-14T16:49:17.108694Z"
    }
   },
   "outputs": [
    {
     "name": "stdout",
     "output_type": "stream",
     "text": [
      "[1]\n",
      "[2]\n"
     ]
    }
   ],
   "source": [
    "def push_good(e, to=None):\n",
    "    if to is None:\n",
    "        to = []\n",
    "    to.append(e)\n",
    "    return to\n",
    "print(push_good(1))\n",
    "print(push_good(2))"
   ]
  },
  {
   "cell_type": "markdown",
   "metadata": {},
   "source": [
    "## Python Closures"
   ]
  },
  {
   "cell_type": "code",
   "execution_count": 5,
   "metadata": {
    "ExecuteTime": {
     "end_time": "2019-12-14T16:52:14.420812Z",
     "start_time": "2019-12-14T16:52:14.412026Z"
    }
   },
   "outputs": [
    {
     "name": "stdout",
     "output_type": "stream",
     "text": [
      "0\n",
      "2\n",
      "4\n"
     ]
    }
   ],
   "source": [
    "def outer(arg1):\n",
    "    def inner(arg2):\n",
    "        return arg1 * arg2\n",
    "    return inner\n",
    "funcs = [outer(i) for i in range(3)]\n",
    "for func in funcs:\n",
    "    print(func(2))"
   ]
  },
  {
   "cell_type": "code",
   "execution_count": 6,
   "metadata": {
    "ExecuteTime": {
     "end_time": "2019-12-14T16:55:26.544146Z",
     "start_time": "2019-12-14T16:55:26.535432Z"
    }
   },
   "outputs": [
    {
     "name": "stdout",
     "output_type": "stream",
     "text": [
      "<function create_multipliers.<locals>.<listcomp>.<lambda> at 0x00000265AD018E58> 8\n",
      "<function create_multipliers.<locals>.<listcomp>.<lambda> at 0x00000265AD018D38> 8\n",
      "<function create_multipliers.<locals>.<listcomp>.<lambda> at 0x00000265AD018C18> 8\n",
      "<function create_multipliers.<locals>.<listcomp>.<lambda> at 0x00000265AD018CA8> 8\n",
      "<function create_multipliers.<locals>.<listcomp>.<lambda> at 0x00000265AD0183A8> 8\n"
     ]
    }
   ],
   "source": [
    "def create_multipliers():\n",
    "    return [lambda x: i * x for i in range(5)]\n",
    "for multiplier in create_multipliers():\n",
    "    print(multiplier, multiplier(2))"
   ]
  }
 ],
 "metadata": {
  "hide_input": false,
  "kernelspec": {
   "display_name": "Common",
   "language": "python",
   "name": "common"
  },
  "language_info": {
   "codemirror_mode": {
    "name": "ipython",
    "version": 3
   },
   "file_extension": ".py",
   "mimetype": "text/x-python",
   "name": "python",
   "nbconvert_exporter": "python",
   "pygments_lexer": "ipython3",
   "version": "3.7.4"
  },
  "toc": {
   "base_numbering": 1,
   "nav_menu": {
    "height": "24px",
    "width": "162px"
   },
   "number_sections": true,
   "sideBar": true,
   "skip_h1_title": false,
   "title_cell": "Table of Contents",
   "title_sidebar": "Contents",
   "toc_cell": false,
   "toc_position": {},
   "toc_section_display": true,
   "toc_window_display": false
  }
 },
 "nbformat": 4,
 "nbformat_minor": 2
}
