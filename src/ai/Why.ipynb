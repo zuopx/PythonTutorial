{
 "cells": [
  {
   "cell_type": "markdown",
   "metadata": {},
   "source": [
    "# Why, the new science of cause and effect"
   ]
  },
  {
   "cell_type": "markdown",
   "metadata": {},
   "source": [
    "## Mediator\n",
    "\n",
    "`x->z->y`\n",
    "\n",
    "如果我控制了z，x和y相关性如何？"
   ]
  },
  {
   "cell_type": "code",
   "execution_count": 1,
   "metadata": {
    "ExecuteTime": {
     "end_time": "2019-10-14T02:58:51.013498Z",
     "start_time": "2019-10-14T02:58:50.282554Z"
    }
   },
   "outputs": [],
   "source": [
    "import numpy as np\n",
    "import matplotlib.pyplot as plt"
   ]
  },
  {
   "cell_type": "code",
   "execution_count": 12,
   "metadata": {
    "ExecuteTime": {
     "end_time": "2019-10-14T03:13:11.997842Z",
     "start_time": "2019-10-14T03:13:11.980898Z"
    }
   },
   "outputs": [],
   "source": [
    "data = np.zeros((10000, 3))\n",
    "data[:, 0] = np.random.randint(100, size=10000)\n",
    "data[:, 1] = data[:, 0] + 1 + (np.random.randint(10, size=10000) - 5)\n",
    "data[:, 2] = data[:, 1] + -1 + (np.random.randint(10, size=10000) - 5)"
   ]
  },
  {
   "cell_type": "code",
   "execution_count": 18,
   "metadata": {
    "ExecuteTime": {
     "end_time": "2019-10-14T03:57:28.313313Z",
     "start_time": "2019-10-14T03:57:28.292597Z"
    }
   },
   "outputs": [
    {
     "data": {
      "text/plain": [
       "(array([  44,   62,  219,  255,  314,  622,  751,  774, 1008, 1193, 1231,\n",
       "        1358, 1539, 1557, 1638, 1678, 1814, 1855, 2028, 2536, 2779, 2883,\n",
       "        2908, 2910, 3082, 3189, 3264, 3407, 3413, 3473, 3487, 3736, 4093,\n",
       "        4357, 4376, 4589, 4611, 4707, 4840, 4892, 4991, 5002, 5203, 5323,\n",
       "        5344, 5356, 5429, 5467, 5553, 5617, 5636, 5660, 5669, 5778, 5900,\n",
       "        5969, 6093, 6216, 6348, 6363, 6407, 6518, 6536, 6538, 6578, 6633,\n",
       "        6640, 6769, 6772, 6878, 6897, 6938, 7062, 7132, 7381, 7440, 7481,\n",
       "        7708, 7820, 7929, 8061, 8128, 8138, 8154, 8356, 8859, 9002, 9060,\n",
       "        9171, 9296, 9325, 9464, 9471, 9512, 9559, 9694, 9844, 9890, 9954,\n",
       "        9983]),)"
      ]
     },
     "execution_count": 18,
     "metadata": {},
     "output_type": "execute_result"
    }
   ],
   "source": [
    "np.where(data[:, 1] == 50)"
   ]
  },
  {
   "cell_type": "code",
   "execution_count": 22,
   "metadata": {
    "ExecuteTime": {
     "end_time": "2019-10-14T04:03:18.004018Z",
     "start_time": "2019-10-14T04:03:17.402101Z"
    }
   },
   "outputs": [
    {
     "data": {
      "text/plain": [
       "[<matplotlib.lines.Line2D at 0x7fecd22ed610>]"
      ]
     },
     "execution_count": 22,
     "metadata": {},
     "output_type": "execute_result"
    },
    {
     "data": {
      "image/png": "[encoded data removed]",
      "text/plain": [
       "<Figure size 432x288 with 2 Axes>"
      ]
     },
     "metadata": {
      "needs_background": "light"
     },
     "output_type": "display_data"
    }
   ],
   "source": [
    "fig, ax = plt.subplots(1, 2)\n",
    "x = np.arange(100)\n",
    "y = x\n",
    "\n",
    "condition_data = data[np.where(data[:, 1] == 50)[0]]\n",
    "ax[0].scatter(condition_data[:, 0], condition_data[:, 2])\n",
    "ax[0].plot(x, y)\n",
    "\n",
    "sample_data = data[np.random.choice(10000, condition_data.shape[0], replace=False)]\n",
    "ax[1].scatter(sample_data[:, 0], sample_data[:, 2])\n",
    "ax[1].plot(x, y)"
   ]
  }
 ],
 "metadata": {
  "kernelspec": {
   "display_name": "Common",
   "language": "python",
   "name": "common"
  },
  "language_info": {
   "codemirror_mode": {
    "name": "ipython",
    "version": 3
   },
   "file_extension": ".py",
   "mimetype": "text/x-python",
   "name": "python",
   "nbconvert_exporter": "python",
   "pygments_lexer": "ipython3",
   "version": "3.7.4"
  }
 },
 "nbformat": 4,
 "nbformat_minor": 2
}
