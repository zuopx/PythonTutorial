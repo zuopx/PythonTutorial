{
 "cells": [
  {
   "cell_type": "markdown",
   "metadata": {},
   "source": [
    "# Snap-stanford Tutorial\n",
    "[snap.py tutorial](http://snap.stanford.edu/snappy/doc/tutorial/tutorial.html)"
   ]
  },
  {
   "cell_type": "code",
   "execution_count": 2,
   "metadata": {
    "ExecuteTime": {
     "end_time": "2019-11-07T12:07:06.793222Z",
     "start_time": "2019-11-07T12:07:06.791156Z"
    }
   },
   "outputs": [],
   "source": [
    "import snap"
   ]
  },
  {
   "cell_type": "markdown",
   "metadata": {},
   "source": [
    "## Graph Type\n",
    "-   TUNGraph\n",
    "-   TNGraph"
   ]
  },
  {
   "cell_type": "code",
   "execution_count": 4,
   "metadata": {
    "ExecuteTime": {
     "end_time": "2019-11-07T12:07:50.628332Z",
     "start_time": "2019-11-07T12:07:50.616572Z"
    }
   },
   "outputs": [
    {
     "name": "stdout",
     "output_type": "stream",
     "text": [
      "<class 'snap.PNGraph'>\n"
     ]
    }
   ],
   "source": [
    "g1 = snap.TNGraph.New()\n",
    "print(type(g1))"
   ]
  },
  {
   "cell_type": "code",
   "execution_count": 7,
   "metadata": {
    "ExecuteTime": {
     "end_time": "2019-11-07T12:09:15.723001Z",
     "start_time": "2019-11-07T12:09:15.706088Z"
    }
   },
   "outputs": [],
   "source": [
    "for i in range(10):\n",
    "    g1.AddNode(i)\n",
    "    if i:\n",
    "        g1.AddEdge(i - 1, i)"
   ]
  },
  {
   "cell_type": "code",
   "execution_count": null,
   "metadata": {},
   "outputs": [],
   "source": [
    "dir(g1)"
   ]
  }
 ],
 "metadata": {
  "kernelspec": {
   "display_name": "ComplexNetwork",
   "language": "python",
   "name": "complexnetwork"
  },
  "language_info": {
   "codemirror_mode": {
    "name": "ipython",
    "version": 3
   },
   "file_extension": ".py",
   "mimetype": "text/x-python",
   "name": "python",
   "nbconvert_exporter": "python",
   "pygments_lexer": "ipython3",
   "version": "3.7.5"
  }
 },
 "nbformat": 4,
 "nbformat_minor": 2
}
