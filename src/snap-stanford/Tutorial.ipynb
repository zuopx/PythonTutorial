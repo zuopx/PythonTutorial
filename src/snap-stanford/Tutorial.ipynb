{
 "cells": [
  {
   "cell_type": "markdown",
   "metadata": {},
   "source": [
    "# Snap-stanford Tutorial\n",
    "[snap.py tutorial](http://snap.stanford.edu/snappy/doc/tutorial/tutorial.html)"
   ]
  },
  {
   "cell_type": "code",
   "execution_count": 3,
   "metadata": {
    "ExecuteTime": {
     "end_time": "2019-11-18T07:11:44.542241Z",
     "start_time": "2019-11-18T07:11:44.538250Z"
    }
   },
   "outputs": [],
   "source": [
    "import snap"
   ]
  },
  {
   "cell_type": "markdown",
   "metadata": {},
   "source": [
    "## Graph Type\n",
    "-   TUNGraph\n",
    "-   TNGraph"
   ]
  },
  {
   "cell_type": "code",
   "execution_count": 4,
   "metadata": {
    "ExecuteTime": {
     "end_time": "2019-11-18T07:11:51.137254Z",
     "start_time": "2019-11-18T07:11:51.133267Z"
    }
   },
   "outputs": [
    {
     "name": "stdout",
     "output_type": "stream",
     "text": [
      "<class 'snap.PNGraph'>\n"
     ]
    }
   ],
   "source": [
    "g1 = snap.TNGraph.New()\n",
    "print(type(g1))"
   ]
  },
  {
   "cell_type": "code",
   "execution_count": 5,
   "metadata": {
    "ExecuteTime": {
     "end_time": "2019-11-18T07:11:57.098408Z",
     "start_time": "2019-11-18T07:11:57.092395Z"
    }
   },
   "outputs": [],
   "source": [
    "for i in range(10):\n",
    "    g1.AddNode(i)\n",
    "    if i:\n",
    "        g1.AddEdge(i - 1, i)"
   ]
  },
  {
   "cell_type": "code",
   "execution_count": 6,
   "metadata": {
    "ExecuteTime": {
     "end_time": "2019-11-18T07:13:08.275391Z",
     "start_time": "2019-11-18T07:13:08.265418Z"
    }
   },
   "outputs": [
    {
     "data": {
      "text/plain": [
       "10"
      ]
     },
     "execution_count": 6,
     "metadata": {},
     "output_type": "execute_result"
    }
   ],
   "source": [
    "g1.GetNodes()"
   ]
  },
  {
   "cell_type": "code",
   "execution_count": 9,
   "metadata": {
    "ExecuteTime": {
     "end_time": "2019-11-18T07:15:23.637935Z",
     "start_time": "2019-11-18T07:15:23.632949Z"
    }
   },
   "outputs": [
    {
     "name": "stdout",
     "output_type": "stream",
     "text": [
      "<class 'snap.TNGraphNodeI'> 0 0 1\n",
      "<class 'snap.TNGraphNodeI'> 1 1 1\n",
      "<class 'snap.TNGraphNodeI'> 2 1 1\n",
      "<class 'snap.TNGraphNodeI'> 3 1 1\n",
      "<class 'snap.TNGraphNodeI'> 4 1 1\n",
      "<class 'snap.TNGraphNodeI'> 5 1 1\n",
      "<class 'snap.TNGraphNodeI'> 6 1 1\n",
      "<class 'snap.TNGraphNodeI'> 7 1 1\n",
      "<class 'snap.TNGraphNodeI'> 8 1 1\n",
      "<class 'snap.TNGraphNodeI'> 9 1 0\n"
     ]
    }
   ],
   "source": [
    "for node in g1.Nodes():\n",
    "    print(type(node), node.GetId(), node.GetInDeg(), node.GetOutDeg())"
   ]
  }
 ],
 "metadata": {
  "hide_input": false,
  "kernelspec": {
   "display_name": "ComplexNetwork",
   "language": "python",
   "name": "complexnetwork"
  },
  "language_info": {
   "codemirror_mode": {
    "name": "ipython",
    "version": 3
   },
   "file_extension": ".py",
   "mimetype": "text/x-python",
   "name": "python",
   "nbconvert_exporter": "python",
   "pygments_lexer": "ipython3",
   "version": "3.7.5"
  }
 },
 "nbformat": 4,
 "nbformat_minor": 2
}
